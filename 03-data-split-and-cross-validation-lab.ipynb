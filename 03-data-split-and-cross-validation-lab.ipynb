{
  "nbformat": 4,
  "nbformat_minor": 0,
  "metadata": {
    "colab": {
      "provenance": [],
      "include_colab_link": true
    },
    "kernelspec": {
      "name": "python3",
      "display_name": "Python 3"
    },
    "language_info": {
      "name": "python"
    }
  },
  "cells": [
    {
      "cell_type": "markdown",
      "metadata": {
        "id": "view-in-github",
        "colab_type": "text"
      },
      "source": [
        "<a href=\"https://colab.research.google.com/github/WagnerMiron/introducao_a_ciencia_de_dados/blob/main/03-data-split-and-cross-validation-lab.ipynb\" target=\"_parent\"><img src=\"https://colab.research.google.com/assets/colab-badge.svg\" alt=\"Open In Colab\"/></a>"
      ]
    },
    {
      "cell_type": "markdown",
      "source": [
        "# Notebook for demonstration of data split and cross-validation\n",
        "\n",
        "## 1. Introduction\n",
        "This notebook provides an introduction to linear regression. We will create a synthetic dataset, fit a linear regression model, and evaluate its performance in four different scenarios:\n",
        "1. Without splitting the data\n",
        "2. With data split into training and testing sets\n",
        "3. Using cross-validation\n",
        "4. Comparing different numbers of folds in cross-validation"
      ],
      "metadata": {
        "id": "XQvqHTQfpiOh"
      }
    },
    {
      "cell_type": "markdown",
      "source": [
        "## 2. Importing Libraries"
      ],
      "metadata": {
        "id": "9d1UtfFgpxBH"
      }
    },
    {
      "cell_type": "code",
      "source": [
        "import numpy as np  # Importa a biblioteca NumPy e a renomeia como np\n",
        "import pandas as pd # Importa a biblioteca pandas e a renomeia como pd\n",
        "import matplotlib.pyplot as plt # Importa o módulo pyplot da biblioteca Matplotlib e o renomeia como plt\n",
        "from sklearn.linear_model import LinearRegression # Importa a classe LinearRegression do módulo linear_model da biblioteca scikit-learn\n",
        "from sklearn.model_selection import train_test_split, cross_val_score # Importa as funções train_test_split e cross_val_score do módulo model_selection da biblioteca scikit-learn\n",
        "from sklearn.metrics import mean_squared_error, r2_score # Importa as funções mean_squared_error e r2_score do módulo metrics da biblioteca scikit-learn"
      ],
      "metadata": {
        "id": "ja6bBsHlpy6I"
      },
      "execution_count": null,
      "outputs": []
    },
    {
      "cell_type": "markdown",
      "source": [
        "## 3. Creating the Synthetic Dataset\n",
        "Essa seção do código gera dados sintéticos para um modelo de regressão linear simples e os organiza em um DataFrame pandas. Aqui, X é a variável independente (feature) e y é a variável dependente (target)."
      ],
      "metadata": {
        "id": "6iAenRHLp2Kg"
      }
    },
    {
      "cell_type": "code",
      "source": [
        "# Generating random data\n",
        "n_samples = 100  # Define o número de amostras como 100\n",
        "np.random.seed(42) # Define o gerador de números aleatórios para 42\n",
        "X = 2 * np.random.rand(n_samples, 1)  # Gera uma matriz de 100 amostras (n_samples) com valores aleatórios entre 0 e 2\n",
        "y = 4 + 3 * X + np.random.randn(n_samples, 1) # Gera os valores alvo (y) com base na equação linear y = 4 + 3*X, adicionando um ruído aleatório\n",
        "\n",
        "# Creating a DataFrame\n",
        "data = pd.DataFrame(data=np.hstack((X, y)), columns=['Feature', 'Target'])  # Combina X e y em um único array e cria um DataFrame  com colunas 'Feature' e 'Target'\n",
        "\n",
        "# Displaying the first few rows of the dataset\n",
        "data.head()  # Exibe as primeiras cinco linhas do DataFrame"
      ],
      "metadata": {
        "id": "HwcT1Lq3p5Ao"
      },
      "execution_count": null,
      "outputs": []
    },
    {
      "cell_type": "markdown",
      "source": [
        "## 4. Exploratory Data Analysis (EDA)\n",
        "Esse código cria e exibe um gráfico de dispersão que mostra a relação entre a variável independente (Feature) e a variável dependente (Target).\n"
      ],
      "metadata": {
        "id": "O07Rjb5Sp71I"
      }
    },
    {
      "cell_type": "code",
      "source": [
        "plt.scatter(data['Feature'], data['Target']) # Cria um gráfico de dispersão (scatter plot) com 'Feature' no eixo x e 'Target' no eixo y\n",
        "plt.xlabel('Feature') # Define o rótulo do eixo x como 'Feature'\n",
        "plt.ylabel('Target') # Define o rótulo do eixo y como 'Target'\n",
        "plt.title('Feature vs Target') # Define o título do gráfico como 'Feature vs Target'\n",
        "plt.show() # Exibe o gráfico"
      ],
      "metadata": {
        "id": "F2Kw8PfAp_Xp"
      },
      "execution_count": null,
      "outputs": []
    },
    {
      "cell_type": "markdown",
      "source": [
        "## 5. Scenario 1: Without Splitting the Data"
      ],
      "metadata": {
        "id": "qq8M1S7-qBvo"
      }
    },
    {
      "cell_type": "code",
      "source": [
        "# Training the Linear Regression Model\n",
        "model = LinearRegression()  # Cria uma instância do modelo de regressão linear\n",
        "model.fit(data[['Feature']], data['Target'])   # Treina o modelo de regressão linear usando a 'Feature' como variável independente e 'Target' como variável dependente"
      ],
      "metadata": {
        "id": "sxTVmbUsqDth"
      },
      "execution_count": null,
      "outputs": []
    },
    {
      "cell_type": "code",
      "source": [
        "# Evaluating the Model\n",
        "y_pred = model.predict(data[['Feature']]) # Usa o modelo treinado para prever os valores de 'Target' com base na 'Feature'\n",
        "mse1 = mean_squared_error(data['Target'], y_pred) # Calcula o erro quadrático médio (Mean Squared Error, MSE) entre os valores reais e os valores previstos\n",
        "r2_1 = r2_score(data['Target'], y_pred)  # Calcula o coeficiente de determinação (R²) entre os valores reais e os valores previstos\n",
        "print(f'Scenario 1 - MSE: {mse1}') # Imprime o valor do MSE para o cenário 1\n",
        "print(f'Scenario 1 - R²: {r2_1}') # Imprime o valor do R² para o cenário 1"
      ],
      "metadata": {
        "id": "IVdBCM_BqzCX"
      },
      "execution_count": null,
      "outputs": []
    },
    {
      "cell_type": "markdown",
      "source": [
        "## 6. Scenario 2: Splitting the Data into Training and Testing Sets"
      ],
      "metadata": {
        "id": "__8WiS6oqFJQ"
      }
    },
    {
      "cell_type": "code",
      "source": [
        "# Splitting the Data\n",
        "X_train, X_test, y_train, y_test = train_test_split(data[['Feature']], data['Target'], test_size=0.2, random_state=42) # Divide os dados em conjuntos de treinamento e teste, com 80% dos dados para treinamento e 20% para teste. A semente do gerador de números aleatórios é definida como 42 para garantir reprodutibilidade\n",
        "\n",
        "\n",
        "# Training the Linear Regression Model\n",
        "model = LinearRegression() # Cria uma instância do modelo de regressão linear\n",
        "model.fit(X_train, y_train) # Treina o modelo usando o conjunto de treinamento (X_train e y_train)"
      ],
      "metadata": {
        "id": "w060dJP-qGRA"
      },
      "execution_count": null,
      "outputs": []
    },
    {
      "cell_type": "code",
      "source": [
        "# Evaluating the Model on Training Data\n",
        "y_train_pred = model.predict(X_train) # Usa o modelo treinado para prever os valores de 'y_train' com base em 'X_train'\n",
        "mse2_train = mean_squared_error(y_train, y_train_pred) # Calcula o erro quadrático médio (MSE) entre os valores reais de 'y_train' e os valores previstos 'y_train_pred'\n",
        "r2_2_train = r2_score(y_train, y_train_pred) # Calcula o coeficiente de determinação (R²) entre os valores reais de 'y_train' e os valores previstos 'y_train_pred'\n",
        "print(f'Scenario 2 - Training MSE: {mse2_train}') # Imprime o valor do MSE para os dados de treinamento no cenário 2\n",
        "print(f'Scenario 2 - Training R²: {r2_2_train}') # Imprime o valor do R² para os dados de treinamento no cenário 2"
      ],
      "metadata": {
        "id": "40EPTzChqKAh"
      },
      "execution_count": null,
      "outputs": []
    },
    {
      "cell_type": "code",
      "source": [
        "# Evaluating the Model on Testing Data\n",
        "y_test_pred = model.predict(X_test)  # Usa o modelo treinado para prever os valores de 'y_test' com base em 'X_test'\n",
        "mse2_test = mean_squared_error(y_test, y_test_pred) # Calcula o erro quadrático médio (MSE) entre os valores reais de 'y_test' e os valores previstos 'y_test_pred'\n",
        "r2_2_test = r2_score(y_test, y_test_pred) # Calcula o coeficiente de determinação (R²) entre os valores reais de 'y_test' e os valores previstos 'y_test_pred'\n",
        "print(f'Scenario 2 - Testing MSE: {mse2_test}') # Imprime o valor do MSE para os dados de teste no cenário 2\n",
        "print(f'Scenario 2 - Testing R²: {r2_2_test}') # Imprime o valor do R² para os dados de teste no cenário 2"
      ],
      "metadata": {
        "id": "s-MBb_JBqMG4"
      },
      "execution_count": null,
      "outputs": []
    },
    {
      "cell_type": "markdown",
      "source": [
        "## 7. Scenario 3: Using Cross-Validation"
      ],
      "metadata": {
        "id": "5dPuLi2IqOSY"
      }
    },
    {
      "cell_type": "code",
      "source": [
        "# Cross-Validation\n",
        "cv_mse = -cross_val_score(model, data[['Feature']], data['Target'], cv=5, scoring='neg_mean_squared_error')  # Realiza a validação cruzada com 5 dobras (folds) para calcular o erro quadrático médio (MSE). 'scoring' usa 'neg_mean_squared_error' para que o resultado seja negativo; o sinal negativo é revertido aqui.\n",
        "\n",
        "cv_r2 = cross_val_score(model, data[['Feature']], data['Target'], cv=5, scoring='r2') # Realiza a validação cruzada com 5 dobras (folds) para calcular o coeficiente de determinação (R²). O valor de R² é retornado diretamente.\n",
        "\n",
        "# Evaluating the Model\n",
        "mse3 = cv_mse.mean()  # Calcula a média do MSE obtido nas dobras da validação cruzada\n",
        "r2_3 = cv_r2.mean() # Calcula a média do R² obtido nas dobras da validação cruzada\n",
        "print(f'Scenario 3 - MSE: {mse3}') # Imprime o valor médio do MSE para o cenário 3\n",
        "print(f'Scenario 3 - R²: {r2_3}') # Imprime o valor médio do R² para o cenário 3"
      ],
      "metadata": {
        "id": "LdqQQbXqqQVo"
      },
      "execution_count": null,
      "outputs": []
    },
    {
      "cell_type": "markdown",
      "source": [
        "## 8. Scenario 4: Comparing Different Numbers of Folds in Cross-Validation"
      ],
      "metadata": {
        "id": "P2djcfhYqUIw"
      }
    },
    {
      "cell_type": "code",
      "source": [
        "# Comparing different numbers of folds in cross-validation\n",
        "folds = [3, 5, 10, 20] # Lista com diferentes números de dobras para a validação cruzada\n",
        "mse_scores = [] # Lista para armazenar os valores de MSE para cada número de dobras\n",
        "r2_scores = [] # Lista para armazenar os valores de R² para cada número de dobras\n",
        "\n",
        "for k in folds: # Itera sobre cada número de dobras na lista 'folds'\n",
        "    cv_mse = -cross_val_score(model, data[['Feature']], data['Target'], cv=k, scoring='neg_mean_squared_error')  # Realiza a validação cruzada com k dobras para calcular o MSE. 'scoring' usa 'neg_mean_squared_error', então o valor negativo é revertido aqui.\n",
        "    cv_r2 = cross_val_score(model, data[['Feature']], data['Target'], cv=k, scoring='r2') # Realiza a validação cruzada com k dobras para calcular o coeficiente de determinação (R²).\n",
        "    mse_scores.append(cv_mse.mean())  # Adiciona a média do MSE obtido na validação cruzada para o número de dobras k à lista 'mse_scores'\n",
        "    r2_scores.append(cv_r2.mean()) # Adiciona a média do R² obtido na validação cruzada para o número de dobras k à lista 'r2_scores'\n",
        "    print(f'{k}-fold CV - MSE: {cv_mse.mean()}') # Imprime o valor médio do MSE para a validação cruzada com k dobras\n",
        "    print(f'{k}-fold CV - R²: {cv_r2.mean()}') # Imprime o valor médio do R² para a validação cruzada com k dobras"
      ],
      "metadata": {
        "id": "6AGGlH4_qU-o"
      },
      "execution_count": null,
      "outputs": []
    },
    {
      "cell_type": "code",
      "source": [
        "# Plotting the results\n",
        "plt.figure(figsize=(12, 5))   # Cria uma nova figura com tamanho 12x5 polegadas\n",
        "\n",
        "plt.subplot(1, 2, 1)  # Cria um subplot (painel) para o primeiro gráfico, com 1 linha e 2 colunas, selecionando o primeiro gráfico\n",
        "plt.plot(folds, mse_scores, marker='o') # Plota os valores de MSE em função do número de dobras, com marcadores 'o' para cada ponto\n",
        "plt.title('MSE vs. Number of Folds') # Define o título do primeiro gráfico como 'MSE vs. Number of Folds'\n",
        "plt.xlabel('Number of Folds') # Define o rótulo do eixo x como 'Number of Folds'\n",
        "plt.ylabel('MSE')  # Define o rótulo do eixo y como 'MSE'\n",
        "\n",
        "\n",
        "plt.subplot(1, 2, 2) # Cria um subplot (painel) para o segundo gráfico, com 1 linha e 2 colunas, selecionando o segundo gráfico\n",
        "plt.plot(folds, r2_scores, marker='o') # Plota os valores de R² em função do número de dobras, com marcadores 'o' para cada ponto\n",
        "plt.title('R² vs. Number of Folds') # Define o título do segundo gráfico como 'R² vs. Number of Folds'\n",
        "plt.xlabel('Number of Folds') # Define o rótulo do eixo x como 'Number of Folds'\n",
        "plt.ylabel('R²') # Define o rótulo do eixo y como 'R²'\n",
        "\n",
        "plt.tight_layout() # Ajusta o layout para evitar sobreposição dos subplots\n",
        "plt.show() # Exibe a figura com os gráficos"
      ],
      "metadata": {
        "id": "80l7y4-oqcEA"
      },
      "execution_count": null,
      "outputs": []
    },
    {
      "cell_type": "markdown",
      "source": [],
      "metadata": {
        "id": "_tRe44UpEUKy"
      }
    },
    {
      "cell_type": "markdown",
      "source": [
        "## 9. Comparison of All Scenarios"
      ],
      "metadata": {
        "id": "N9POjFa1qgkA"
      }
    },
    {
      "cell_type": "code",
      "source": [
        "# Comparing all scenarios\n",
        "#scenarios = ['No Split', 'Train/Test Split (Train)', 'Train/Test Split (Test)', '5-Fold CV', '3-Fold CV', '10-Fold CV', '20-Fold CV']\n",
        "#mse_all = [mse1, mse2_train, mse2_test, mse_cv] + mse_scores\n",
        "#r2_all = [r2_1, r2_2_train, r2_2_test, r2_cv] + r2_scores\n",
        "\n",
        "scenarios = ['No Split', 'Train/Test Split (Train)', 'Train/Test Split (Test)', '3-Fold CV', '5-Fold CV', '10-Fold CV', '20-Fold CV'] # Lista com descrições dos diferentes cenários de avaliação\n",
        "mse_all = [mse1, mse2_train, mse2_test] + mse_scores # Lista com os valores de MSE para cada cenário: sem divisão, treinamento, teste e validação cruzada\n",
        "r2_all = [r2_1, r2_2_train, r2_2_test] + r2_scores # Lista com os valores de R² para cada cenário: sem divisão, treinamento, teste e validação cruzada\n",
        "\n",
        "\n",
        "# Plotting the comparison\n",
        "plt.figure(figsize=(14, 6)) # Cria uma nova figura com tamanho 14x6 polegadas\n",
        "plt.subplot(1, 2, 1) # Cria um subplot (painel) para o primeiro gráfico, com 1 linha e 2 colunas, selecionando o primeiro gráfico\n",
        "plt.barh(scenarios, mse_all, color='skyblue') # Plota um gráfico de barras horizontais com os cenários no eixo y e os valores de MSE no eixo x\n",
        "plt.xlabel('MSE') # Define o rótulo do eixo x como 'MSE'\n",
        "plt.title('Comparison of MSE across Scenarios') # Define o título do gráfico como 'Comparison of MSE across Scenarios'\n",
        "\n",
        "\n",
        "plt.subplot(1, 2, 2) # Cria um subplot (painel) para o segundo gráfico, com 1 linha e 2 colunas, selecionando o segundo gráfico\n",
        "plt.barh(scenarios, r2_all, color='lightgreen') # Plota um gráfico de barras horizontais com os cenários no eixo y e os valores de R² no eixo x\n",
        "plt.xlabel('R²') # Define o rótulo do eixo x como 'R²'\n",
        "plt.title('Comparison of R² across Scenarios') # Define o título do gráfico como 'Comparison of R² across Scenarios'\n",
        "\n",
        "\n",
        "plt.tight_layout() # Ajusta o layout para evitar sobreposição dos subplots\n",
        "plt.show() # Exibe a figura com os gráficos"
      ],
      "metadata": {
        "id": "QaXY5siGqitA"
      },
      "execution_count": null,
      "outputs": []
    },
    {
      "cell_type": "markdown",
      "source": [
        "## 10. Conclusion\n",
        "In this notebook, we created a synthetic dataset and fitted a linear regression model. We evaluated the model's performance using MSE and R² in four different scenarios:\n",
        "1. Without splitting the data\n",
        "2. With data split into training and testing sets\n",
        "3. Using cross-validation\n",
        "4. Comparing different numbers of folds in cross-validation\n",
        "\n",
        "Finally, we compared the results of all scenarios to understand the impact of different evaluation methods and the number of folds on the model's performance."
      ],
      "metadata": {
        "id": "S_j6W2qBqnuQ"
      }
    }
  ]
}