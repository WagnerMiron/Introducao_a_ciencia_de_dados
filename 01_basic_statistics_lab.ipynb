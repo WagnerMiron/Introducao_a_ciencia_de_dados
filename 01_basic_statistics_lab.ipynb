{
  "cells": [
    {
      "cell_type": "markdown",
      "metadata": {
        "id": "view-in-github",
        "colab_type": "text"
      },
      "source": [
        "<a href=\"https://colab.research.google.com/github/WagnerMiron/introducao_a_ciencia_de_dados/blob/main/C%C3%B3pia_de_01_basic_statistics_lab.ipynb\" target=\"_parent\"><img src=\"https://colab.research.google.com/assets/colab-badge.svg\" alt=\"Open In Colab\"/></a>"
      ]
    },
    {
      "cell_type": "markdown",
      "id": "01f11313",
      "metadata": {
        "id": "01f11313"
      },
      "source": [
        "# Introduction to Basic Statistical Measures with Pandas\n",
        "This notebook will guide you through some basic statistical measures using the `pandas` library. We will cover:\n",
        "1. Mean\n",
        "2. Median\n",
        "3. Mode\n",
        "4. Standard Deviation\n",
        "5. Variance\n",
        "6. Quartiles and Percentiles"
      ]
    },
    {
      "cell_type": "markdown",
      "source": [
        "## Importing Necessary Libraries\n",
        "First, we will import the necessary libraries."
      ],
      "metadata": {
        "id": "dp-9DQOrMeA-"
      },
      "id": "dp-9DQOrMeA-"
    },
    {
      "cell_type": "code",
      "execution_count": null,
      "id": "593697cf",
      "metadata": {
        "id": "593697cf"
      },
      "outputs": [],
      "source": [
        "import pandas as pd #Importa a biblioteca pandas, e a abreviação 'pd' permite que refira-se ao Pandas\n",
        "import matplotlib.pyplot as plt # Importa a biblioteca matplotlib para criar gráficos e a abreviação 'plt' permite que refira-se a função de maneira mais curta.\n"
      ]
    },
    {
      "cell_type": "markdown",
      "id": "69e9a8af",
      "metadata": {
        "id": "69e9a8af"
      },
      "source": [
        "## Creating the DataFrame\n",
        "Let's create a DataFrame with the data we will use in the examples."
      ]
    },
    {
      "cell_type": "code",
      "execution_count": null,
      "id": "6ce414f1",
      "metadata": {
        "id": "6ce414f1"
      },
      "outputs": [],
      "source": [
        "# Creating the DataFrame\n",
        "data = pd.DataFrame({'values': [10, 20, 30, 40, 50]})  #Cria um DataFrame chamado 'data' com uma coluna 'valores' contendo a lista de valores\n",
        "print(data) # Imprime o DataFrame"
      ]
    },
    {
      "cell_type": "markdown",
      "id": "e3722a78",
      "metadata": {
        "id": "e3722a78"
      },
      "source": [
        "## 1. Mean\n",
        "The mean is the sum of all values divided by the number of values."
      ]
    },
    {
      "cell_type": "code",
      "execution_count": null,
      "id": "8e617b70",
      "metadata": {
        "id": "8e617b70"
      },
      "outputs": [],
      "source": [
        "# Example of calculating the mean\n",
        "mean = data['values'].mean() # Calcula a média (valor médio) da coluna 'valores' e armazena na variável 'média'\n",
        "print(\"Mean:\", mean)  # Imprime a média calculada"
      ]
    },
    {
      "cell_type": "markdown",
      "id": "e15053b1",
      "metadata": {
        "id": "e15053b1"
      },
      "source": [
        "## 2. Median\n",
        "The median is the middle value when the data is ordered."
      ]
    },
    {
      "cell_type": "code",
      "execution_count": null,
      "id": "6eb4da6b",
      "metadata": {
        "id": "6eb4da6b"
      },
      "outputs": [],
      "source": [
        "# Example of calculating the median\n",
        "median = data['values'].median() # Calcula a mediana (valor central) da coluna 'valores' e armazena na variável 'mediana'\n",
        "print(\"Median:\", median)  # Imprime a mediana calculada"
      ]
    },
    {
      "cell_type": "markdown",
      "id": "7bdbe0ef",
      "metadata": {
        "id": "7bdbe0ef"
      },
      "source": [
        "## 3. Mode\n",
        "The mode is the value that appears most frequently in the data."
      ]
    },
    {
      "cell_type": "code",
      "execution_count": null,
      "id": "715d64c5",
      "metadata": {
        "id": "715d64c5"
      },
      "outputs": [],
      "source": [
        "# Example of calculating the mode\n",
        "mode = data['values'].mode() # Calcula a moda (valor(es) mais frequente(s)) da coluna 'valores' e armazena na variável 'moda'\n",
        "print(\"Mode:\", mode[0]) # Imprime o primeiro elemento de 'moda' (assumindo que há apenas uma moda) com um rótulo"
      ]
    },
    {
      "cell_type": "markdown",
      "id": "d2a707fd",
      "metadata": {
        "id": "d2a707fd"
      },
      "source": [
        "## 4. Standard Deviation\n",
        "The standard deviation measures the dispersion of the data relative to the mean."
      ]
    },
    {
      "cell_type": "code",
      "execution_count": null,
      "id": "000bba44",
      "metadata": {
        "id": "000bba44"
      },
      "outputs": [],
      "source": [
        "# Example of calculating the standard deviation\n",
        "std_dev = data['values'].std() #Calcula o desvio padrão dos valores na coluna 'values'\n",
        "print(\"Standard Deviation:\", std_dev)  #Imprime o valor calculado do desvio padrão"
      ]
    },
    {
      "cell_type": "markdown",
      "id": "96415f42",
      "metadata": {
        "id": "96415f42"
      },
      "source": [
        "## 5. Variance\n",
        "The variance is the square of the standard deviation."
      ]
    },
    {
      "cell_type": "code",
      "execution_count": null,
      "id": "5e88e1cd",
      "metadata": {
        "id": "5e88e1cd"
      },
      "outputs": [],
      "source": [
        "# Example of calculating the variance\n",
        "variance = data['values'].var()  # Calcula a variância (dispersão dos dados) da coluna 'valores' e armazena na variável 'variância'\n",
        "print(\"Variance:\", variance) # Imprime a variância calculada"
      ]
    },
    {
      "cell_type": "markdown",
      "id": "a221087d",
      "metadata": {
        "id": "a221087d"
      },
      "source": [
        "## 6. Quartiles and Percentiles\n",
        "Quartiles divide the data into four equal parts. Percentiles are similar but divide the data into 100 equal parts."
      ]
    },
    {
      "cell_type": "code",
      "execution_count": null,
      "id": "3bc76b5f",
      "metadata": {
        "id": "3bc76b5f"
      },
      "outputs": [],
      "source": [
        "# Example of calculating quartiles\n",
        "Q1 = data['values'].quantile(0.25) # Calcula o 1º quartil (25%) da coluna 'valores' e armazena em 'Q1'\n",
        "Q2 = data['values'].quantile(0.50) # Calcula o 2º quartil (50%) da coluna 'valores' e armazena em 'Q2'\n",
        "Q3 = data['values'].quantile(0.75)  # Calcula o 3º quartil (75%) da coluna 'valores' e armazena em 'Q3'\n",
        "print(\"1st Quartile (Q1):\", Q1)  # Imprime o 1º quartil calculado com um rótulo\n",
        "print(\"2nd Quartile (Q2):\", Q2)  # Imprime o 2º quartil calculado com um rótulo\n",
        "print(\"3rd Quartile (Q3):\", Q3)  # Imprime o 3º quartil calculado com um rótulo\n",
        "\n",
        "# Example of calculating percentiles\n",
        "percentile_90 = data['values'].quantile(0.90) # Calcula 90% dos valores abaixo da coluna 'valores' e armazena em 'percentil_90'\n",
        "print(\"90th Percentile:\", percentile_90) # Imprime o 90% calculado"
      ]
    },
    {
      "cell_type": "markdown",
      "id": "45efab78",
      "metadata": {
        "id": "45efab78"
      },
      "source": [
        "## Data Visualisation\n",
        "Let's use a boxplot to visualise the distribution of the data."
      ]
    },
    {
      "cell_type": "code",
      "execution_count": null,
      "id": "29165df6",
      "metadata": {
        "id": "29165df6"
      },
      "outputs": [],
      "source": [
        "# Example of visualisation with boxplot\n",
        "plt.boxplot(data['values']) # Cria um boxplot da coluna 'valores' usando matplotlib\n",
        "plt.title(\"Boxplot of the Data\") # Define o título do gráfico\n",
        "plt.show() # Exibe o boxplot criado"
      ]
    },
    {
      "cell_type": "markdown",
      "id": "e21e8421",
      "metadata": {
        "id": "e21e8421"
      },
      "source": [
        "## Conclusion\n",
        "In this notebook, we covered some basic statistical measures, including mean, median, mode, standard deviation, variance, quartiles, and percentiles. Additionally, we visualised the distribution of the data using a boxplot. We hope this notebook helps you better understand these measures and how to apply them to your data."
      ]
    }
  ],
  "metadata": {
    "colab": {
      "provenance": [],
      "include_colab_link": true
    },
    "language_info": {
      "name": "python"
    },
    "kernelspec": {
      "name": "python3",
      "display_name": "Python 3"
    }
  },
  "nbformat": 4,
  "nbformat_minor": 5
}
