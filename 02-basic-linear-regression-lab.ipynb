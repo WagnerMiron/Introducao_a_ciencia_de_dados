{
  "cells": [
    {
      "cell_type": "markdown",
      "metadata": {
        "id": "view-in-github",
        "colab_type": "text"
      },
      "source": [
        "<a href=\"https://colab.research.google.com/github/WagnerMiron/introducao_a_ciencia_de_dados/blob/main/02-basic-linear-regression-lab.ipynb\" target=\"_parent\"><img src=\"https://colab.research.google.com/assets/colab-badge.svg\" alt=\"Open In Colab\"/></a>"
      ]
    },
    {
      "cell_type": "markdown",
      "id": "557bb495",
      "metadata": {
        "id": "557bb495"
      },
      "source": [
        "## 1. Introduction\n",
        "This notebook provides an introduction to linear regression. We will create a synthetic dataset, fit a linear regression model, and evaluate its performance."
      ]
    },
    {
      "cell_type": "markdown",
      "source": [
        "## 2. Importing Libraries"
      ],
      "metadata": {
        "id": "sf00cQapSS3_"
      },
      "id": "sf00cQapSS3_"
    },
    {
      "cell_type": "code",
      "execution_count": null,
      "id": "eb58c073",
      "metadata": {
        "id": "eb58c073"
      },
      "outputs": [],
      "source": [
        "import numpy as np #Importa a biblioteca NumPy, uma biblioteca fundamental para a computação científica em Python.\n",
        "import pandas as pd #Importa a biblioteca Pandas, que fornece estruturas de dados e ferramentas de análise de dados\n",
        "import matplotlib.pyplot as plt #Esta linha importa o módulo pyplot da biblioteca Matplotlib, que é usada para criar gráficos e visualizações de dados.\n",
        "from sklearn.linear_model import LinearRegression # Esta linha importa a classe LinearRegression do módulo linear_model da biblioteca scikit-learn. Esta classe é usada para realizar regressão linear, uma técnica de modelagem preditiva.\n",
        "from sklearn.metrics import mean_squared_error, r2_score #sta linha importa duas funções do módulo metrics da biblioteca scikit-learn: mean_squared_error: Usada para calcular o erro quadrático médio (MSE) e r2_score: Usada para calcular o coeficiente de determinação (R²)"
      ]
    },
    {
      "cell_type": "markdown",
      "id": "2a230dfe",
      "metadata": {
        "id": "2a230dfe"
      },
      "source": [
        "## 3. Creating the Synthetic Dataset\n",
        "Defining the size of the dataset."
      ]
    },
    {
      "cell_type": "code",
      "execution_count": null,
      "id": "c80bf1e9",
      "metadata": {
        "id": "c80bf1e9"
      },
      "outputs": [],
      "source": [
        "# Generating random data\n",
        "n_samples = 100 #Define a quantidade de amostras\n",
        "np.random.seed(42) #Define a semente do gerador de números aleatórios da NumPy para 42. Isso garante que a geração de números aleatórios seja reproduzível.\n",
        "X = 2 * np.random.rand(n_samples, 1) #Gera um array X de forma (100, 1) (100 linhas e 1 coluna) com números aleatórios uniformemente distribuídos entre 0 e 2. Multiplicar por 2 expande o intervalo para entre 0 e 2.\n",
        "y = 4 + 3 * X + np.random.randn(n_samples, 1) #Gera a variável de saída y baseada em uma relação linear com X, com um pouco de ruído adicionado. np.random.randn(n_samples, 1) adiciona ruído gaussiano (distribuição normal com média 0 e variância 1) ao modelo para simular variações e imperfeições nos dados.\n",
        "\n",
        "# Creating a DataFrame\n",
        "data = pd.DataFrame(data=np.hstack((X, y)), columns=['Feature', 'Target']) #Cria um DataFrame do Pandas a partir dos arrays X e y e nomeia as colunas do DataFrame como 'Feature' e 'Target'. np.hstack((X, y)): Concatena os arrays X e y em colunas.\n",
        "\n",
        "# Displaying the first few rows of the dataset\n",
        "data.head(10) #Exibe as primeiras 10 linhas do DataFrame data"
      ]
    },
    {
      "cell_type": "markdown",
      "id": "61ebf00a",
      "metadata": {
        "id": "61ebf00a"
      },
      "source": [
        "## 4. Exploratory Data Analysis (EDA)\n",
        "Visualising the relationship between Feature and Target"
      ]
    },
    {
      "cell_type": "markdown",
      "source": [
        "Este código cria um gráfico de dispersão para visualizar a relação entre as variáveis Feature e Target."
      ],
      "metadata": {
        "id": "6gEspS8UluPE"
      },
      "id": "6gEspS8UluPE"
    },
    {
      "cell_type": "markdown",
      "source": [],
      "metadata": {
        "id": "Jyco6A-3lyYT"
      },
      "id": "Jyco6A-3lyYT"
    },
    {
      "cell_type": "code",
      "execution_count": null,
      "id": "9f65c7f2",
      "metadata": {
        "id": "9f65c7f2"
      },
      "outputs": [],
      "source": [
        "plt.scatter(data['Feature'], data['Target']) #Plota um gráfico de dispersão usando os valores da coluna 'Feature' do DataFrame como coordenadas x e os valores da coluna 'Target' como coordenadas y.\n",
        "plt.xlabel('Feature') #Define o rótulo do eixo x como 'Feature'.\n",
        "plt.ylabel('Target') #Define o rótulo do eixo y como 'Target'.\n",
        "plt.title('Feature vs Target') #Define o título do gráfico como 'Feature vs Target'.\n",
        "plt.show() #Exibe o gráfico."
      ]
    },
    {
      "cell_type": "markdown",
      "id": "48eda29d",
      "metadata": {
        "id": "48eda29d"
      },
      "source": [
        "## 5. Training the Linear Regression Model"
      ]
    },
    {
      "cell_type": "code",
      "execution_count": null,
      "id": "61bd1491",
      "metadata": {
        "id": "61bd1491"
      },
      "outputs": [],
      "source": [
        "model = LinearRegression() #Cria uma instância do modelo de regressão linear da biblioteca scikit-learn. O objeto model agora pode ser usado para ajustar o modelo aos dados e fazer previsões.\n",
        "model.fit(data[['Feature']], data['Target']) #Ajusta o modelo de regressão linear aos dados fornecidos.O [['Feature']] é usado para garantir que os dados sejam passados como um DataFrame de uma coluna, em vez de uma Series. data['Target']: O array ou Series com os valores de saída (ou alvo) que correspondem a cada valor em 'Feature'."
      ]
    },
    {
      "cell_type": "markdown",
      "id": "a8bad09a",
      "metadata": {
        "id": "a8bad09a"
      },
      "source": [
        "## 6. Evaluating the Model"
      ]
    },
    {
      "cell_type": "code",
      "execution_count": null,
      "id": "6cca45ab",
      "metadata": {
        "id": "6cca45ab"
      },
      "outputs": [],
      "source": [
        "y_pred = model.predict(data[['Feature']]) # Usa o modelo ajustado para fazer previsões com base nos dados de entrada data[['Feature']]. O método predict retorna um array com as previsões do modelo para cada amostra no conjunto de dados.\n",
        "mse = mean_squared_error(data['Target'], y_pred) #Calcula o erro quadrático médio (MSE) das previsões.\n",
        "r2 = r2_score(data['Target'], y_pred) #Calcula o coeficiente de determinação (R²) das previsões.\n",
        "print(f'MSE: {mse}') #Imprime o valor do erro quadrático médio calculado.\n",
        "print(f'R²: {r2}') #Imprime o valor do coeficiente de determinação (R²) calculado."
      ]
    },
    {
      "cell_type": "markdown",
      "id": "2fea9262",
      "metadata": {
        "id": "2fea9262"
      },
      "source": [
        "## 7. Visualising the Results"
      ]
    },
    {
      "cell_type": "code",
      "execution_count": null,
      "id": "c249d936",
      "metadata": {
        "id": "c249d936"
      },
      "outputs": [],
      "source": [
        "plt.scatter(data['Feature'], data['Target'], color='black', label='Actual Data') #Cria um gráfico de dispersão com os dados reais.data['Feature'] e data['Target'] são usados como coordenadas x e y, respectivamente.color='black' define a cor dos pontos como preta. label='Actual Data' define a legenda para os pontos de dados reais.\n",
        "plt.plot(data['Feature'], y_pred, color='blue', linewidth=3, label='Predictions') # Plota uma linha que representa as previsões do modelo de regressão linear.data['Feature'] é usado como coordenadas x e y_pred como coordenadas y. linewidth=3 define a largura da linha para 3, tornando-a mais visível. label='Predictions' define a legenda para a linha das previsões.\n",
        "plt.xlabel('Feature') #  Define o rótulo do eixo x como 'Feature'.\n",
        "plt.ylabel('Target') #Define o rótulo do eixo y como 'Target'.\n",
        "plt.title('Linear Regression Model') #Define o título do gráfico como 'Linear Regression Model'.\n",
        "plt.legend() #Adiciona uma legenda ao gráfico, baseada nas labels definidas nas linhas anteriores ('Actual Data' e 'Predictions').\n",
        "plt.show() #Exibe o gráfico."
      ]
    },
    {
      "cell_type": "markdown",
      "id": "bb5a8748",
      "metadata": {
        "id": "bb5a8748"
      },
      "source": [
        "## 8. Conclusion\n",
        "In this notebook, we created a synthetic dataset and fitted a linear regression model. We evaluated the model's performance using MSE and R², and visualised the results. This is a basic example to demonstrate the fundamentals of linear regression."
      ]
    }
  ],
  "metadata": {
    "colab": {
      "provenance": [],
      "include_colab_link": true
    },
    "language_info": {
      "name": "python"
    },
    "kernelspec": {
      "name": "python3",
      "display_name": "Python 3"
    }
  },
  "nbformat": 4,
  "nbformat_minor": 5
}